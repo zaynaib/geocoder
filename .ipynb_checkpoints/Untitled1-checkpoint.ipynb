{
 "cells": [
  {
   "cell_type": "code",
   "execution_count": 18,
   "id": "c574cba8",
   "metadata": {},
   "outputs": [],
   "source": [
    "import pandas as pd\n",
    "import sqlite3"
   ]
  },
  {
   "cell_type": "code",
   "execution_count": 2,
   "id": "ef38a70a",
   "metadata": {},
   "outputs": [
    {
     "name": "stderr",
     "output_type": "stream",
     "text": [
      "/tmp/ipykernel_141367/2170154904.py:1: DtypeWarning: Columns (4) have mixed types. Specify dtype option on import or set low_memory=False.\n",
      "  geo_database = pd.read_csv('test.csv',header=None)\n"
     ]
    },
    {
     "data": {
      "text/html": [
       "<div>\n",
       "<style scoped>\n",
       "    .dataframe tbody tr th:only-of-type {\n",
       "        vertical-align: middle;\n",
       "    }\n",
       "\n",
       "    .dataframe tbody tr th {\n",
       "        vertical-align: top;\n",
       "    }\n",
       "\n",
       "    .dataframe thead th {\n",
       "        text-align: right;\n",
       "    }\n",
       "</style>\n",
       "<table border=\"1\" class=\"dataframe\">\n",
       "  <thead>\n",
       "    <tr style=\"text-align: right;\">\n",
       "      <th></th>\n",
       "      <th>0</th>\n",
       "      <th>1</th>\n",
       "      <th>2</th>\n",
       "      <th>3</th>\n",
       "      <th>4</th>\n",
       "      <th>5</th>\n",
       "      <th>6</th>\n",
       "      <th>7</th>\n",
       "    </tr>\n",
       "  </thead>\n",
       "  <tbody>\n",
       "    <tr>\n",
       "      <th>0</th>\n",
       "      <td>1763</td>\n",
       "      <td>W</td>\n",
       "      <td>WELLINGTON</td>\n",
       "      <td>AVE</td>\n",
       "      <td>60657</td>\n",
       "      <td>41.935796</td>\n",
       "      <td>-87.673357</td>\n",
       "      <td>1763 W WELLINGTON AVE</td>\n",
       "    </tr>\n",
       "    <tr>\n",
       "      <th>1</th>\n",
       "      <td>1622</td>\n",
       "      <td>W</td>\n",
       "      <td>CULLERTON</td>\n",
       "      <td>ST</td>\n",
       "      <td>60608</td>\n",
       "      <td>41.855258</td>\n",
       "      <td>-87.667139</td>\n",
       "      <td>1622 W CULLERTON ST</td>\n",
       "    </tr>\n",
       "    <tr>\n",
       "      <th>2</th>\n",
       "      <td>917</td>\n",
       "      <td>W</td>\n",
       "      <td>ARMITAGE</td>\n",
       "      <td>AVE</td>\n",
       "      <td>60614</td>\n",
       "      <td>41.917926</td>\n",
       "      <td>-87.651651</td>\n",
       "      <td>917 W ARMITAGE AVE</td>\n",
       "    </tr>\n",
       "    <tr>\n",
       "      <th>3</th>\n",
       "      <td>1132</td>\n",
       "      <td>S</td>\n",
       "      <td>WABASH</td>\n",
       "      <td>AVE</td>\n",
       "      <td>60605</td>\n",
       "      <td>41.868253</td>\n",
       "      <td>-87.626334</td>\n",
       "      <td>1132 S WABASH AVE</td>\n",
       "    </tr>\n",
       "    <tr>\n",
       "      <th>4</th>\n",
       "      <td>732</td>\n",
       "      <td>N</td>\n",
       "      <td>WILLARD</td>\n",
       "      <td>CT</td>\n",
       "      <td>60642</td>\n",
       "      <td>41.895400</td>\n",
       "      <td>-87.658712</td>\n",
       "      <td>732 N WILLARD CT</td>\n",
       "    </tr>\n",
       "  </tbody>\n",
       "</table>\n",
       "</div>"
      ],
      "text/plain": [
       "      0  1           2    3      4          5          6  \\\n",
       "0  1763  W  WELLINGTON  AVE  60657  41.935796 -87.673357   \n",
       "1  1622  W   CULLERTON   ST  60608  41.855258 -87.667139   \n",
       "2   917  W    ARMITAGE  AVE  60614  41.917926 -87.651651   \n",
       "3  1132  S      WABASH  AVE  60605  41.868253 -87.626334   \n",
       "4   732  N     WILLARD   CT  60642  41.895400 -87.658712   \n",
       "\n",
       "                       7  \n",
       "0  1763 W WELLINGTON AVE  \n",
       "1    1622 W CULLERTON ST  \n",
       "2     917 W ARMITAGE AVE  \n",
       "3      1132 S WABASH AVE  \n",
       "4       732 N WILLARD CT  "
      ]
     },
     "execution_count": 2,
     "metadata": {},
     "output_type": "execute_result"
    }
   ],
   "source": [
    "geo_database = pd.read_csv('test.csv',header=None)\n",
    "geo_database.head()"
   ]
  },
  {
   "cell_type": "code",
   "execution_count": 4,
   "id": "afb8f143",
   "metadata": {},
   "outputs": [],
   "source": [
    "geo_database.columns = ['numerical','direction','streetname','abvr','zipcode','lat', 'long', 'full']"
   ]
  },
  {
   "cell_type": "code",
   "execution_count": 5,
   "id": "428ae54f",
   "metadata": {},
   "outputs": [
    {
     "data": {
      "text/html": [
       "<div>\n",
       "<style scoped>\n",
       "    .dataframe tbody tr th:only-of-type {\n",
       "        vertical-align: middle;\n",
       "    }\n",
       "\n",
       "    .dataframe tbody tr th {\n",
       "        vertical-align: top;\n",
       "    }\n",
       "\n",
       "    .dataframe thead th {\n",
       "        text-align: right;\n",
       "    }\n",
       "</style>\n",
       "<table border=\"1\" class=\"dataframe\">\n",
       "  <thead>\n",
       "    <tr style=\"text-align: right;\">\n",
       "      <th></th>\n",
       "      <th>numerical</th>\n",
       "      <th>direction</th>\n",
       "      <th>streetname</th>\n",
       "      <th>abvr</th>\n",
       "      <th>zipcode</th>\n",
       "      <th>lat</th>\n",
       "      <th>long</th>\n",
       "      <th>full</th>\n",
       "    </tr>\n",
       "  </thead>\n",
       "  <tbody>\n",
       "    <tr>\n",
       "      <th>0</th>\n",
       "      <td>1763</td>\n",
       "      <td>W</td>\n",
       "      <td>WELLINGTON</td>\n",
       "      <td>AVE</td>\n",
       "      <td>60657</td>\n",
       "      <td>41.935796</td>\n",
       "      <td>-87.673357</td>\n",
       "      <td>1763 W WELLINGTON AVE</td>\n",
       "    </tr>\n",
       "    <tr>\n",
       "      <th>1</th>\n",
       "      <td>1622</td>\n",
       "      <td>W</td>\n",
       "      <td>CULLERTON</td>\n",
       "      <td>ST</td>\n",
       "      <td>60608</td>\n",
       "      <td>41.855258</td>\n",
       "      <td>-87.667139</td>\n",
       "      <td>1622 W CULLERTON ST</td>\n",
       "    </tr>\n",
       "    <tr>\n",
       "      <th>2</th>\n",
       "      <td>917</td>\n",
       "      <td>W</td>\n",
       "      <td>ARMITAGE</td>\n",
       "      <td>AVE</td>\n",
       "      <td>60614</td>\n",
       "      <td>41.917926</td>\n",
       "      <td>-87.651651</td>\n",
       "      <td>917 W ARMITAGE AVE</td>\n",
       "    </tr>\n",
       "    <tr>\n",
       "      <th>3</th>\n",
       "      <td>1132</td>\n",
       "      <td>S</td>\n",
       "      <td>WABASH</td>\n",
       "      <td>AVE</td>\n",
       "      <td>60605</td>\n",
       "      <td>41.868253</td>\n",
       "      <td>-87.626334</td>\n",
       "      <td>1132 S WABASH AVE</td>\n",
       "    </tr>\n",
       "    <tr>\n",
       "      <th>4</th>\n",
       "      <td>732</td>\n",
       "      <td>N</td>\n",
       "      <td>WILLARD</td>\n",
       "      <td>CT</td>\n",
       "      <td>60642</td>\n",
       "      <td>41.895400</td>\n",
       "      <td>-87.658712</td>\n",
       "      <td>732 N WILLARD CT</td>\n",
       "    </tr>\n",
       "  </tbody>\n",
       "</table>\n",
       "</div>"
      ],
      "text/plain": [
       "  numerical direction  streetname abvr zipcode        lat       long  \\\n",
       "0      1763         W  WELLINGTON  AVE   60657  41.935796 -87.673357   \n",
       "1      1622         W   CULLERTON   ST   60608  41.855258 -87.667139   \n",
       "2       917         W    ARMITAGE  AVE   60614  41.917926 -87.651651   \n",
       "3      1132         S      WABASH  AVE   60605  41.868253 -87.626334   \n",
       "4       732         N     WILLARD   CT   60642  41.895400 -87.658712   \n",
       "\n",
       "                    full  \n",
       "0  1763 W WELLINGTON AVE  \n",
       "1    1622 W CULLERTON ST  \n",
       "2     917 W ARMITAGE AVE  \n",
       "3      1132 S WABASH AVE  \n",
       "4       732 N WILLARD CT  "
      ]
     },
     "execution_count": 5,
     "metadata": {},
     "output_type": "execute_result"
    }
   ],
   "source": [
    "geo_database.head()\n"
   ]
  },
  {
   "cell_type": "code",
   "execution_count": 6,
   "id": "acc48c54",
   "metadata": {},
   "outputs": [
    {
     "data": {
      "text/plain": [
       "(802424, 8)"
      ]
     },
     "execution_count": 6,
     "metadata": {},
     "output_type": "execute_result"
    }
   ],
   "source": [
    "geo_database.shape"
   ]
  },
  {
   "cell_type": "code",
   "execution_count": 10,
   "id": "a846cca3",
   "metadata": {},
   "outputs": [
    {
     "data": {
      "text/plain": [
       "numerical      object\n",
       "direction      object\n",
       "streetname     object\n",
       "abvr           object\n",
       "zipcode        object\n",
       "lat           float64\n",
       "long          float64\n",
       "full           object\n",
       "dtype: object"
      ]
     },
     "execution_count": 10,
     "metadata": {},
     "output_type": "execute_result"
    }
   ],
   "source": [
    "geo_database.dtypes"
   ]
  },
  {
   "cell_type": "code",
   "execution_count": 21,
   "id": "c13c9dd2",
   "metadata": {},
   "outputs": [],
   "source": [
    "#importing sql library\n",
    "from sqlalchemy import create_engine\n",
    " \n",
    "# create a reference\n",
    "# for sql library\n",
    "engine = create_engine('sqlite://',\n",
    "                       echo = False)\n",
    " "
   ]
  },
  {
   "cell_type": "code",
   "execution_count": 22,
   "id": "0d1cb30b",
   "metadata": {},
   "outputs": [
    {
     "data": {
      "text/plain": [
       "802424"
      ]
     },
     "execution_count": 22,
     "metadata": {},
     "output_type": "execute_result"
    }
   ],
   "source": [
    "geo_database.to_sql('data',con=engine,index=False)"
   ]
  },
  {
   "cell_type": "code",
   "execution_count": 25,
   "id": "0a86e430",
   "metadata": {},
   "outputs": [
    {
     "name": "stdout",
     "output_type": "stream",
     "text": [
      "[('1763',), ('1622',), ('917',), ('1132',), ('732',)]\n"
     ]
    }
   ],
   "source": [
    "print(engine.execute(\"SELECT numerical FROM data LIMIT 5\").fetchall())"
   ]
  },
  {
   "cell_type": "code",
   "execution_count": 30,
   "id": "86b4729d",
   "metadata": {},
   "outputs": [
    {
     "data": {
      "text/plain": [
       "[(107, '1441', 'N', 'LAVERGNE', 'AVE', '60651', 41.90715843, -87.75070037, '1441 N LAVERGNE AVE'),\n",
       " (149, '1717', 'N', 'NEWLAND', 'AVE', '60707', 41.91135018, -87.79818482, '1717 N NEWLAND AVE'),\n",
       " (290, '1509', 'N', 'MAYFIELD', 'AVE', '60651', 41.90787984, -87.77283068, '1509 N MAYFIELD AVE'),\n",
       " (299, '1145', 'N', 'LONG', 'AVE', '60651', 41.9017098, -87.76054245, '1145 N LONG AVE'),\n",
       " (312, '1924', 'N', 'BURLING', 'ST', '60614', 41.9167803, -87.64753535, '1924 N BURLING ST')]"
      ]
     },
     "execution_count": 30,
     "metadata": {},
     "output_type": "execute_result"
    }
   ],
   "source": [
    "engine.execute('''SELECT * FROM data \n",
    "WHERE numerical BETWEEN 100 and 200\n",
    "AND direction = 'N' LIMIT 5''').fetchall()"
   ]
  },
  {
   "cell_type": "code",
   "execution_count": null,
   "id": "9b13f072",
   "metadata": {},
   "outputs": [],
   "source": []
  },
  {
   "cell_type": "code",
   "execution_count": null,
   "id": "89b9aa3d",
   "metadata": {},
   "outputs": [],
   "source": []
  },
  {
   "cell_type": "code",
   "execution_count": null,
   "id": "b67f384a",
   "metadata": {},
   "outputs": [],
   "source": []
  },
  {
   "cell_type": "code",
   "execution_count": null,
   "id": "94bc7b8f",
   "metadata": {},
   "outputs": [],
   "source": []
  },
  {
   "cell_type": "code",
   "execution_count": null,
   "id": "b6cdad70",
   "metadata": {},
   "outputs": [],
   "source": []
  },
  {
   "cell_type": "code",
   "execution_count": null,
   "id": "cce9162f",
   "metadata": {},
   "outputs": [],
   "source": [
    "\n",
    "# attach the data frame to the sql\n",
    "# with a name of the table\n",
    "# as \"Employee_Data\"\n",
    "dataset.to_sql('Employee_Data',\n",
    "               con = engine)\n",
    " \n",
    "# show the complete data\n",
    "# from Employee_Data table\n",
    "print(engine.execute(\"SELECT * FROM Employee_Data\").fetchall())"
   ]
  },
  {
   "cell_type": "code",
   "execution_count": null,
   "id": "dc351c66",
   "metadata": {},
   "outputs": [],
   "source": []
  },
  {
   "cell_type": "code",
   "execution_count": null,
   "id": "3fa1fded",
   "metadata": {},
   "outputs": [],
   "source": []
  },
  {
   "cell_type": "code",
   "execution_count": null,
   "id": "b1f499d0",
   "metadata": {},
   "outputs": [],
   "source": [
    "geo_database[n]"
   ]
  },
  {
   "cell_type": "code",
   "execution_count": 7,
   "id": "ced4654a",
   "metadata": {},
   "outputs": [
    {
     "data": {
      "text/plain": [
       "(1342668, 5)"
      ]
     },
     "execution_count": 7,
     "metadata": {},
     "output_type": "execute_result"
    }
   ],
   "source": []
  },
  {
   "cell_type": "code",
   "execution_count": 8,
   "id": "a49feb89",
   "metadata": {},
   "outputs": [
    {
     "data": {
      "text/html": [
       "<div>\n",
       "<style scoped>\n",
       "    .dataframe tbody tr th:only-of-type {\n",
       "        vertical-align: middle;\n",
       "    }\n",
       "\n",
       "    .dataframe tbody tr th {\n",
       "        vertical-align: top;\n",
       "    }\n",
       "\n",
       "    .dataframe thead th {\n",
       "        text-align: right;\n",
       "    }\n",
       "</style>\n",
       "<table border=\"1\" class=\"dataframe\">\n",
       "  <thead>\n",
       "    <tr style=\"text-align: right;\">\n",
       "      <th></th>\n",
       "      <th>numerical</th>\n",
       "      <th>directional</th>\n",
       "      <th>street_name</th>\n",
       "      <th>abbvr</th>\n",
       "    </tr>\n",
       "  </thead>\n",
       "  <tbody>\n",
       "    <tr>\n",
       "      <th>0</th>\n",
       "      <td>7600</td>\n",
       "      <td>S</td>\n",
       "      <td>HALSTED</td>\n",
       "      <td>ST</td>\n",
       "    </tr>\n",
       "    <tr>\n",
       "      <th>1</th>\n",
       "      <td>10300</td>\n",
       "      <td>S</td>\n",
       "      <td>SPAULDING</td>\n",
       "      <td>AV</td>\n",
       "    </tr>\n",
       "    <tr>\n",
       "      <th>2</th>\n",
       "      <td>4000</td>\n",
       "      <td>W</td>\n",
       "      <td>SCHOOL</td>\n",
       "      <td>ST</td>\n",
       "    </tr>\n",
       "    <tr>\n",
       "      <th>3</th>\n",
       "      <td>5000</td>\n",
       "      <td>N</td>\n",
       "      <td>SHERIDAN</td>\n",
       "      <td>RD</td>\n",
       "    </tr>\n",
       "    <tr>\n",
       "      <th>4</th>\n",
       "      <td>6600</td>\n",
       "      <td>W</td>\n",
       "      <td>BELDEN</td>\n",
       "      <td>AV</td>\n",
       "    </tr>\n",
       "  </tbody>\n",
       "</table>\n",
       "</div>"
      ],
      "text/plain": [
       "  numerical directional street_name abbvr\n",
       "0      7600           S     HALSTED    ST\n",
       "1     10300           S   SPAULDING    AV\n",
       "2      4000           W      SCHOOL    ST\n",
       "3      5000           N    SHERIDAN    RD\n",
       "4      6600           W      BELDEN    AV"
      ]
     },
     "execution_count": 8,
     "metadata": {},
     "output_type": "execute_result"
    }
   ],
   "source": [
    "oemc_df = pd.read_csv('oemc_locations.csv')\n",
    "oemc_df.head()"
   ]
  },
  {
   "cell_type": "code",
   "execution_count": 9,
   "id": "eed6cb95",
   "metadata": {},
   "outputs": [
    {
     "data": {
      "text/plain": [
       "(135874, 4)"
      ]
     },
     "execution_count": 9,
     "metadata": {},
     "output_type": "execute_result"
    }
   ],
   "source": [
    "oemc_df.shape"
   ]
  },
  {
   "cell_type": "code",
   "execution_count": null,
   "id": "a7e634ef",
   "metadata": {},
   "outputs": [],
   "source": [
    "geo_database[]"
   ]
  }
 ],
 "metadata": {
  "kernelspec": {
   "display_name": "Python 3 (ipykernel)",
   "language": "python",
   "name": "python3"
  },
  "language_info": {
   "codemirror_mode": {
    "name": "ipython",
    "version": 3
   },
   "file_extension": ".py",
   "mimetype": "text/x-python",
   "name": "python",
   "nbconvert_exporter": "python",
   "pygments_lexer": "ipython3",
   "version": "3.10.4"
  }
 },
 "nbformat": 4,
 "nbformat_minor": 5
}
