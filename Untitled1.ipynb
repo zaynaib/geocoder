{
 "cells": [
  {
   "cell_type": "code",
   "execution_count": 1,
   "id": "c574cba8",
   "metadata": {},
   "outputs": [],
   "source": [
    "import pandas as pd\n"
   ]
  },
  {
   "cell_type": "code",
   "execution_count": 2,
   "id": "ef38a70a",
   "metadata": {},
   "outputs": [
    {
     "name": "stderr",
     "output_type": "stream",
     "text": [
      "/tmp/ipykernel_116913/2170154904.py:1: DtypeWarning: Columns (1) have mixed types. Specify dtype option on import or set low_memory=False.\n",
      "  geo_database = pd.read_csv('test.csv',header=None)\n"
     ]
    },
    {
     "data": {
      "text/html": [
       "<div>\n",
       "<style scoped>\n",
       "    .dataframe tbody tr th:only-of-type {\n",
       "        vertical-align: middle;\n",
       "    }\n",
       "\n",
       "    .dataframe tbody tr th {\n",
       "        vertical-align: top;\n",
       "    }\n",
       "\n",
       "    .dataframe thead th {\n",
       "        text-align: right;\n",
       "    }\n",
       "</style>\n",
       "<table border=\"1\" class=\"dataframe\">\n",
       "  <thead>\n",
       "    <tr style=\"text-align: right;\">\n",
       "      <th></th>\n",
       "      <th>0</th>\n",
       "      <th>1</th>\n",
       "      <th>2</th>\n",
       "      <th>3</th>\n",
       "      <th>4</th>\n",
       "    </tr>\n",
       "  </thead>\n",
       "  <tbody>\n",
       "    <tr>\n",
       "      <th>0</th>\n",
       "      <td>1700 W WELLINGTON AVE</td>\n",
       "      <td>60657</td>\n",
       "      <td>41.935796</td>\n",
       "      <td>-87.673357</td>\n",
       "      <td>1763 W WELLINGTON AVE</td>\n",
       "    </tr>\n",
       "    <tr>\n",
       "      <th>1</th>\n",
       "      <td>1600 W CULLERTON ST</td>\n",
       "      <td>60608</td>\n",
       "      <td>41.855258</td>\n",
       "      <td>-87.667139</td>\n",
       "      <td>1622 W CULLERTON ST</td>\n",
       "    </tr>\n",
       "    <tr>\n",
       "      <th>2</th>\n",
       "      <td>900 W ARMITAGE AVE</td>\n",
       "      <td>60614</td>\n",
       "      <td>41.917926</td>\n",
       "      <td>-87.651651</td>\n",
       "      <td>917 W ARMITAGE AVE</td>\n",
       "    </tr>\n",
       "    <tr>\n",
       "      <th>3</th>\n",
       "      <td>20000 MOHAWK TRL</td>\n",
       "      <td>60461</td>\n",
       "      <td>41.525564</td>\n",
       "      <td>-87.695313</td>\n",
       "      <td>20018 MOHAWK TRL</td>\n",
       "    </tr>\n",
       "    <tr>\n",
       "      <th>4</th>\n",
       "      <td>20000 MOHAWK TRL</td>\n",
       "      <td>60461</td>\n",
       "      <td>41.525317</td>\n",
       "      <td>-87.695269</td>\n",
       "      <td>20024 MOHAWK TRL</td>\n",
       "    </tr>\n",
       "  </tbody>\n",
       "</table>\n",
       "</div>"
      ],
      "text/plain": [
       "                       0      1          2          3                      4\n",
       "0  1700 W WELLINGTON AVE  60657  41.935796 -87.673357  1763 W WELLINGTON AVE\n",
       "1    1600 W CULLERTON ST  60608  41.855258 -87.667139    1622 W CULLERTON ST\n",
       "2     900 W ARMITAGE AVE  60614  41.917926 -87.651651     917 W ARMITAGE AVE\n",
       "3       20000 MOHAWK TRL  60461  41.525564 -87.695313       20018 MOHAWK TRL\n",
       "4       20000 MOHAWK TRL  60461  41.525317 -87.695269       20024 MOHAWK TRL"
      ]
     },
     "execution_count": 2,
     "metadata": {},
     "output_type": "execute_result"
    }
   ],
   "source": [
    "geo_database = pd.read_csv('test.csv',header=None)\n",
    "geo_database.head()"
   ]
  },
  {
   "cell_type": "code",
   "execution_count": 3,
   "id": "afb8f143",
   "metadata": {},
   "outputs": [],
   "source": [
    "geo_database.columns = ['cleanAddress','zipCode','Lat','Long','regAddress']"
   ]
  },
  {
   "cell_type": "code",
   "execution_count": 4,
   "id": "428ae54f",
   "metadata": {},
   "outputs": [
    {
     "data": {
      "text/html": [
       "<div>\n",
       "<style scoped>\n",
       "    .dataframe tbody tr th:only-of-type {\n",
       "        vertical-align: middle;\n",
       "    }\n",
       "\n",
       "    .dataframe tbody tr th {\n",
       "        vertical-align: top;\n",
       "    }\n",
       "\n",
       "    .dataframe thead th {\n",
       "        text-align: right;\n",
       "    }\n",
       "</style>\n",
       "<table border=\"1\" class=\"dataframe\">\n",
       "  <thead>\n",
       "    <tr style=\"text-align: right;\">\n",
       "      <th></th>\n",
       "      <th>cleanAddress</th>\n",
       "      <th>zipCode</th>\n",
       "      <th>Lat</th>\n",
       "      <th>Long</th>\n",
       "      <th>regAddress</th>\n",
       "    </tr>\n",
       "  </thead>\n",
       "  <tbody>\n",
       "    <tr>\n",
       "      <th>0</th>\n",
       "      <td>1700 W WELLINGTON AVE</td>\n",
       "      <td>60657</td>\n",
       "      <td>41.935796</td>\n",
       "      <td>-87.673357</td>\n",
       "      <td>1763 W WELLINGTON AVE</td>\n",
       "    </tr>\n",
       "    <tr>\n",
       "      <th>1</th>\n",
       "      <td>1600 W CULLERTON ST</td>\n",
       "      <td>60608</td>\n",
       "      <td>41.855258</td>\n",
       "      <td>-87.667139</td>\n",
       "      <td>1622 W CULLERTON ST</td>\n",
       "    </tr>\n",
       "    <tr>\n",
       "      <th>2</th>\n",
       "      <td>900 W ARMITAGE AVE</td>\n",
       "      <td>60614</td>\n",
       "      <td>41.917926</td>\n",
       "      <td>-87.651651</td>\n",
       "      <td>917 W ARMITAGE AVE</td>\n",
       "    </tr>\n",
       "    <tr>\n",
       "      <th>3</th>\n",
       "      <td>20000 MOHAWK TRL</td>\n",
       "      <td>60461</td>\n",
       "      <td>41.525564</td>\n",
       "      <td>-87.695313</td>\n",
       "      <td>20018 MOHAWK TRL</td>\n",
       "    </tr>\n",
       "    <tr>\n",
       "      <th>4</th>\n",
       "      <td>20000 MOHAWK TRL</td>\n",
       "      <td>60461</td>\n",
       "      <td>41.525317</td>\n",
       "      <td>-87.695269</td>\n",
       "      <td>20024 MOHAWK TRL</td>\n",
       "    </tr>\n",
       "  </tbody>\n",
       "</table>\n",
       "</div>"
      ],
      "text/plain": [
       "            cleanAddress zipCode        Lat       Long             regAddress\n",
       "0  1700 W WELLINGTON AVE   60657  41.935796 -87.673357  1763 W WELLINGTON AVE\n",
       "1    1600 W CULLERTON ST   60608  41.855258 -87.667139    1622 W CULLERTON ST\n",
       "2     900 W ARMITAGE AVE   60614  41.917926 -87.651651     917 W ARMITAGE AVE\n",
       "3       20000 MOHAWK TRL   60461  41.525564 -87.695313       20018 MOHAWK TRL\n",
       "4       20000 MOHAWK TRL   60461  41.525317 -87.695269       20024 MOHAWK TRL"
      ]
     },
     "execution_count": 4,
     "metadata": {},
     "output_type": "execute_result"
    }
   ],
   "source": [
    "#Cov.columns = [\"Sequence\", \"Start\", \"End\", \"Coverage\"]\n",
    "geo_database.head()\n"
   ]
  },
  {
   "cell_type": "code",
   "execution_count": 5,
   "id": "a846cca3",
   "metadata": {},
   "outputs": [
    {
     "data": {
      "text/html": [
       "<div>\n",
       "<style scoped>\n",
       "    .dataframe tbody tr th:only-of-type {\n",
       "        vertical-align: middle;\n",
       "    }\n",
       "\n",
       "    .dataframe tbody tr th {\n",
       "        vertical-align: top;\n",
       "    }\n",
       "\n",
       "    .dataframe thead th {\n",
       "        text-align: right;\n",
       "    }\n",
       "</style>\n",
       "<table border=\"1\" class=\"dataframe\">\n",
       "  <thead>\n",
       "    <tr style=\"text-align: right;\">\n",
       "      <th></th>\n",
       "      <th>cleanAddress</th>\n",
       "      <th>zipCode</th>\n",
       "      <th>Lat</th>\n",
       "      <th>Long</th>\n",
       "      <th>regAddress</th>\n",
       "    </tr>\n",
       "  </thead>\n",
       "  <tbody>\n",
       "    <tr>\n",
       "      <th>0</th>\n",
       "      <td>1700 W WELLINGTON AVE</td>\n",
       "      <td>60657</td>\n",
       "      <td>41.935796</td>\n",
       "      <td>-87.673357</td>\n",
       "      <td>1763 W WELLINGTON AVE</td>\n",
       "    </tr>\n",
       "    <tr>\n",
       "      <th>1</th>\n",
       "      <td>1600 W CULLERTON ST</td>\n",
       "      <td>60608</td>\n",
       "      <td>41.855258</td>\n",
       "      <td>-87.667139</td>\n",
       "      <td>1622 W CULLERTON ST</td>\n",
       "    </tr>\n",
       "    <tr>\n",
       "      <th>2</th>\n",
       "      <td>900 W ARMITAGE AVE</td>\n",
       "      <td>60614</td>\n",
       "      <td>41.917926</td>\n",
       "      <td>-87.651651</td>\n",
       "      <td>917 W ARMITAGE AVE</td>\n",
       "    </tr>\n",
       "    <tr>\n",
       "      <th>3</th>\n",
       "      <td>20000 MOHAWK TRL</td>\n",
       "      <td>60461</td>\n",
       "      <td>41.525564</td>\n",
       "      <td>-87.695313</td>\n",
       "      <td>20018 MOHAWK TRL</td>\n",
       "    </tr>\n",
       "    <tr>\n",
       "      <th>5</th>\n",
       "      <td>3400 CUMBERLAND TRL</td>\n",
       "      <td>60461</td>\n",
       "      <td>41.522591</td>\n",
       "      <td>-87.700392</td>\n",
       "      <td>3412 CUMBERLAND TRL</td>\n",
       "    </tr>\n",
       "  </tbody>\n",
       "</table>\n",
       "</div>"
      ],
      "text/plain": [
       "            cleanAddress zipCode        Lat       Long             regAddress\n",
       "0  1700 W WELLINGTON AVE   60657  41.935796 -87.673357  1763 W WELLINGTON AVE\n",
       "1    1600 W CULLERTON ST   60608  41.855258 -87.667139    1622 W CULLERTON ST\n",
       "2     900 W ARMITAGE AVE   60614  41.917926 -87.651651     917 W ARMITAGE AVE\n",
       "3       20000 MOHAWK TRL   60461  41.525564 -87.695313       20018 MOHAWK TRL\n",
       "5    3400 CUMBERLAND TRL   60461  41.522591 -87.700392    3412 CUMBERLAND TRL"
      ]
     },
     "execution_count": 5,
     "metadata": {},
     "output_type": "execute_result"
    }
   ],
   "source": [
    "geo_clean = geo_database.drop_duplicates(subset=['cleanAddress','zipCode'])\n",
    "geo_clean.head()"
   ]
  },
  {
   "cell_type": "code",
   "execution_count": 6,
   "id": "b1f499d0",
   "metadata": {},
   "outputs": [
    {
     "data": {
      "text/plain": [
       "(126829, 5)"
      ]
     },
     "execution_count": 6,
     "metadata": {},
     "output_type": "execute_result"
    }
   ],
   "source": [
    "geo_clean.shape"
   ]
  },
  {
   "cell_type": "code",
   "execution_count": 7,
   "id": "ced4654a",
   "metadata": {},
   "outputs": [
    {
     "data": {
      "text/plain": [
       "(1342668, 5)"
      ]
     },
     "execution_count": 7,
     "metadata": {},
     "output_type": "execute_result"
    }
   ],
   "source": [
    "geo_database.shape"
   ]
  },
  {
   "cell_type": "code",
   "execution_count": 8,
   "id": "a49feb89",
   "metadata": {},
   "outputs": [],
   "source": [
    "geo_clean.to_csv('geocoderDatabase.csv',index=False)"
   ]
  },
  {
   "cell_type": "code",
   "execution_count": null,
   "id": "eed6cb95",
   "metadata": {},
   "outputs": [],
   "source": []
  }
 ],
 "metadata": {
  "kernelspec": {
   "display_name": "Python 3 (ipykernel)",
   "language": "python",
   "name": "python3"
  },
  "language_info": {
   "codemirror_mode": {
    "name": "ipython",
    "version": 3
   },
   "file_extension": ".py",
   "mimetype": "text/x-python",
   "name": "python",
   "nbconvert_exporter": "python",
   "pygments_lexer": "ipython3",
   "version": "3.10.4"
  }
 },
 "nbformat": 4,
 "nbformat_minor": 5
}
